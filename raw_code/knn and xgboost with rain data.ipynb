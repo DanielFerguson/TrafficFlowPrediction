{
 "cells": [
  {
   "cell_type": "code",
   "execution_count": 2,
   "metadata": {},
   "outputs": [],
   "source": [
    "import numpy as np\n",
    "import pandas as pd\n",
    "from matplotlib import pyplot as plt\n",
    "from sklearn.metrics import confusion_matrix\n",
    "from sklearn.neighbors import KNeighborsClassifier\n",
    "import seaborn as sns\n",
    "from sklearn.preprocessing import StandardScaler, MinMaxScaler,normalize\n",
    "sns.set()"
   ]
  },
  {
   "cell_type": "code",
   "execution_count": 3,
   "metadata": {},
   "outputs": [],
   "source": [
    "def process_data(file, lags):\n",
    "    \"\"\"Process data\n",
    "    Reshape and split train\\test data.\n",
    "    # Arguments\n",
    "        train: String, name of .csv train file.\n",
    "        test: String, name of .csv test file.\n",
    "        lags: integer, time lag.\n",
    "    # Returns\n",
    "        X_train: ndarray.\n",
    "        y_train: ndarray.\n",
    "        X_test: ndarray.\n",
    "        y_test: ndarray.\n",
    "        scaler: StandardScaler.\n",
    "    \"\"\"\n",
    "    \n",
    "#     read csv file\n",
    "    df = pd.read_csv(\"/Users/ditlswin/Documents/rkaul/traffic_flow_predi/TrafficFlowPrediction-master/data/{}\".format(file), encoding='utf-8',header=None).fillna(0)\n",
    "\n",
    "#   read all the vehicle/15min in one array   \n",
    "    flow = np.array(df.iloc[:,3:])\n",
    "    flow = flow.ravel()\n",
    "\n",
    "    \n",
    "#     normalize all the values  \n",
    "    scaler = MinMaxScaler(feature_range=(0, 1)).fit(flow.reshape(-1, 1))\n",
    "    normalized_flow = scaler.transform(flow.reshape(-1, 1)).reshape(1, -1)[0]\n",
    "    \n",
    "\n",
    "#     splitting the file into train and test dataset\n",
    "    split = int(normalized_flow.shape[0] * 0.8)\n",
    "    \n",
    "    flow1 = normalized_flow[:split]\n",
    "    flow2 = normalized_flow[split:]\n",
    "    \n",
    "    \n",
    "    train, test = [], []\n",
    "    for i in range(lags, len(flow1)):\n",
    "        train.append(flow1[i - lags: i + 1])\n",
    "    for i in range(lags, len(flow2)):\n",
    "        test.append(flow2[i - lags: i + 1])\n",
    "\n",
    "    train = np.array(train)\n",
    "    print(train)\n",
    "    test = np.array(test)\n",
    "    np.random.shuffle(train)\n",
    "\n",
    "    X_train = train[:, :-1]\n",
    "    print(X_train.shape)\n",
    "    y_train = train[:, -1]\n",
    "    print(y_train.shape)\n",
    "    X_test = test[:, :-1]\n",
    "    y_test = test[:, -1]\n",
    "\n",
    "    return X_train, y_train, X_test, y_test, scaler"
   ]
  },
  {
   "cell_type": "code",
   "execution_count": 147,
   "metadata": {},
   "outputs": [
    {
     "name": "stdout",
     "output_type": "stream",
     "text": [
      "RMSE value for k=  1 is: 0.06818911040341162\n",
      "RMSE value for k=  2 is: 0.0563491642396077\n",
      "RMSE value for k=  3 is: 0.05379577125380491\n",
      "RMSE value for k=  4 is: 0.051575317971021176\n",
      "RMSE value for k=  5 is: 0.05119863130780938\n",
      "RMSE value for k=  6 is: 0.05030116283676832\n",
      "RMSE value for k=  7 is: 0.050244783691162274\n",
      "RMSE value for k=  8 is: 0.04981418945606994\n",
      "RMSE value for k=  9 is: 0.0496787118897633\n",
      "RMSE value for k=  10 is: 0.049493918606524356\n",
      "RMSE value for k=  11 is: 0.04898911369818478\n",
      "RMSE value for k=  12 is: 0.04904074174560658\n",
      "RMSE value for k=  13 is: 0.04921088002292766\n",
      "RMSE value for k=  14 is: 0.04970720641138973\n",
      "RMSE value for k=  15 is: 0.04998162091508146\n",
      "RMSE value for k=  16 is: 0.04988989864839339\n",
      "RMSE value for k=  17 is: 0.04999639073216212\n",
      "RMSE value for k=  18 is: 0.04999591435913535\n",
      "RMSE value for k=  19 is: 0.05011208522140469\n",
      "RMSE value for k=  20 is: 0.050092027393133856\n",
      "RMSE value for k=  21 is: 0.04989700040549926\n",
      "RMSE value for k=  22 is: 0.04989509388908653\n",
      "RMSE value for k=  23 is: 0.04980178789010569\n",
      "RMSE value for k=  24 is: 0.04975106046966372\n",
      "RMSE value for k=  25 is: 0.04997583911431715\n"
     ]
    }
   ],
   "source": [
    "from sklearn import neighbors\n",
    "from sklearn.metrics import mean_squared_error \n",
    "from math import sqrt\n",
    "\n",
    "rmse_val = [] #to store rmse values for different k\n",
    "for K in range(25):\n",
    "    K = K+1\n",
    "    model = neighbors.KNeighborsRegressor(n_neighbors = K)\n",
    "\n",
    "    model.fit(X_train, y_train)  #fit the model\n",
    "    pred=model.predict(X_test) #make prediction on test set\n",
    "    error = sqrt(mean_squared_error(y_test,pred)) #calculate rmse\n",
    "    rmse_val.append(error) #store rmse values\n",
    "    print('RMSE value for k= ' , K , 'is:', error)"
   ]
  },
  {
   "cell_type": "code",
   "execution_count": 18,
   "metadata": {},
   "outputs": [],
   "source": [
    "pred=model.predict(X_test[:4])"
   ]
  },
  {
   "cell_type": "code",
   "execution_count": 19,
   "metadata": {},
   "outputs": [
    {
     "data": {
      "text/plain": [
       "array([0.29333333, 0.28222222, 0.19333333, 0.20444444])"
      ]
     },
     "execution_count": 19,
     "metadata": {},
     "output_type": "execute_result"
    }
   ],
   "source": [
    "y_test[:4]"
   ]
  },
  {
   "cell_type": "code",
   "execution_count": 148,
   "metadata": {},
   "outputs": [],
   "source": [
    "predicted = scaler.inverse_transform(pred.reshape(-1, 1)).reshape(1, -1)[0]"
   ]
  },
  {
   "cell_type": "code",
   "execution_count": 25,
   "metadata": {},
   "outputs": [],
   "source": [
    "y_test = scaler.inverse_transform(y_test.reshape(-1, 1)).reshape(1, -1)[0]"
   ]
  },
  {
   "cell_type": "code",
   "execution_count": 27,
   "metadata": {},
   "outputs": [
    {
     "data": {
      "text/plain": [
       "array([132., 127.,  87.,  92.])"
      ]
     },
     "execution_count": 27,
     "metadata": {},
     "output_type": "execute_result"
    }
   ],
   "source": [
    "y_test[:4]"
   ]
  },
  {
   "cell_type": "code",
   "execution_count": 24,
   "metadata": {},
   "outputs": [
    {
     "data": {
      "text/plain": [
       "array([119.24, 112.8 , 108.48, 107.48])"
      ]
     },
     "execution_count": 24,
     "metadata": {},
     "output_type": "execute_result"
    }
   ],
   "source": [
    "predicted"
   ]
  },
  {
   "cell_type": "code",
   "execution_count": 122,
   "metadata": {},
   "outputs": [
    {
     "name": "stdout",
     "output_type": "stream",
     "text": [
      "[[0.19111111 0.18444444 0.11555556 ... 0.13111111 0.09777778 0.06888889]\n",
      " [0.18444444 0.11555556 0.12888889 ... 0.09777778 0.06888889 0.08222222]\n",
      " [0.11555556 0.12888889 0.13111111 ... 0.06888889 0.08222222 0.06666667]\n",
      " ...\n",
      " [0.75333333 0.73333333 0.80888889 ... 0.78888889 0.73555556 0.66444444]\n",
      " [0.73333333 0.80888889 0.73555556 ... 0.73555556 0.66444444 0.60666667]\n",
      " [0.80888889 0.73555556 0.78888889 ... 0.66444444 0.60666667 0.53333333]]\n",
      "(2374, 6)\n",
      "(2374,)\n"
     ]
    }
   ],
   "source": [
    "# xgboost\n",
    "import xgboost as xgb"
   ]
  },
  {
   "cell_type": "code",
   "execution_count": 150,
   "metadata": {},
   "outputs": [
    {
     "name": "stdout",
     "output_type": "stream",
     "text": [
      "[[0.19111111 0.18444444 0.11555556 ... 0.03555556 0.05333333 0.05555556]\n",
      " [0.18444444 0.11555556 0.12888889 ... 0.05333333 0.05555556 0.05555556]\n",
      " [0.11555556 0.12888889 0.13111111 ... 0.05555556 0.05555556 0.03333333]\n",
      " ...\n",
      " [0.64888889 0.74444444 0.72222222 ... 0.78888889 0.73555556 0.66444444]\n",
      " [0.74444444 0.72222222 0.76444444 ... 0.73555556 0.66444444 0.60666667]\n",
      " [0.72222222 0.76444444 0.83333333 ... 0.66444444 0.60666667 0.53333333]]\n",
      "(2368, 12)\n",
      "(2368,)\n",
      "[0]\teval-mae:0.132163\ttrain-mae:0.131254\n",
      "[1]\teval-mae:0.083766\ttrain-mae:0.082766\n",
      "[2]\teval-mae:0.082301\ttrain-mae:0.083391\n",
      "[3]\teval-mae:0.080955\ttrain-mae:0.082138\n",
      "[4]\teval-mae:0.080775\ttrain-mae:0.083007\n",
      "[5]\teval-mae:0.075619\ttrain-mae:0.077829\n",
      "[6]\teval-mae:0.064608\ttrain-mae:0.068942\n",
      "[7]\teval-mae:0.0624\ttrain-mae:0.066847\n",
      "[8]\teval-mae:0.062131\ttrain-mae:0.06667\n",
      "[9]\teval-mae:0.062662\ttrain-mae:0.066747\n",
      "[10]\teval-mae:0.062912\ttrain-mae:0.067022\n",
      "[11]\teval-mae:0.062471\ttrain-mae:0.066457\n",
      "[12]\teval-mae:0.062575\ttrain-mae:0.066399\n",
      "[13]\teval-mae:0.062106\ttrain-mae:0.065721\n",
      "[14]\teval-mae:0.06127\ttrain-mae:0.064197\n",
      "[15]\teval-mae:0.059968\ttrain-mae:0.06323\n",
      "[16]\teval-mae:0.05754\ttrain-mae:0.05994\n",
      "[17]\teval-mae:0.057953\ttrain-mae:0.060176\n",
      "[18]\teval-mae:0.057912\ttrain-mae:0.060098\n",
      "[19]\teval-mae:0.056785\ttrain-mae:0.056775\n",
      "[20]\teval-mae:0.055703\ttrain-mae:0.056224\n",
      "[21]\teval-mae:0.05578\ttrain-mae:0.056262\n",
      "[22]\teval-mae:0.053809\ttrain-mae:0.052027\n",
      "[23]\teval-mae:0.051091\ttrain-mae:0.050207\n",
      "[24]\teval-mae:0.047106\ttrain-mae:0.045216\n",
      "[25]\teval-mae:0.047455\ttrain-mae:0.045495\n",
      "[26]\teval-mae:0.047422\ttrain-mae:0.045795\n",
      "[27]\teval-mae:0.047302\ttrain-mae:0.045629\n",
      "[28]\teval-mae:0.046294\ttrain-mae:0.044038\n",
      "[29]\teval-mae:0.046401\ttrain-mae:0.044208\n",
      "[30]\teval-mae:0.044617\ttrain-mae:0.042201\n",
      "[31]\teval-mae:0.044696\ttrain-mae:0.0422\n",
      "[32]\teval-mae:0.044578\ttrain-mae:0.042201\n"
     ]
    },
    {
     "name": "stderr",
     "output_type": "stream",
     "text": [
      "/Users/ditlswin/anaconda3/lib/python3.7/site-packages/xgboost/core.py:613: UserWarning: Use subset (sliced data) of np.ndarray is not recommended because it will generate extra copies and increase memory consumption\n",
      "  warnings.warn(\"Use subset (sliced data) of np.ndarray is not recommended \" +\n"
     ]
    },
    {
     "name": "stdout",
     "output_type": "stream",
     "text": [
      "[33]\teval-mae:0.044625\ttrain-mae:0.04219\n",
      "[34]\teval-mae:0.044831\ttrain-mae:0.042056\n",
      "[35]\teval-mae:0.044514\ttrain-mae:0.041505\n",
      "[36]\teval-mae:0.044481\ttrain-mae:0.041475\n",
      "[37]\teval-mae:0.044367\ttrain-mae:0.041039\n",
      "[38]\teval-mae:0.044406\ttrain-mae:0.041038\n",
      "[39]\teval-mae:0.044261\ttrain-mae:0.040974\n",
      "[40]\teval-mae:0.044318\ttrain-mae:0.040979\n",
      "[41]\teval-mae:0.044339\ttrain-mae:0.04095\n",
      "[42]\teval-mae:0.044113\ttrain-mae:0.040775\n",
      "[43]\teval-mae:0.043994\ttrain-mae:0.040021\n",
      "[44]\teval-mae:0.04371\ttrain-mae:0.039964\n",
      "[45]\teval-mae:0.043046\ttrain-mae:0.039194\n",
      "[46]\teval-mae:0.043043\ttrain-mae:0.039028\n",
      "[47]\teval-mae:0.043163\ttrain-mae:0.038897\n",
      "[48]\teval-mae:0.043228\ttrain-mae:0.038903\n",
      "[49]\teval-mae:0.043222\ttrain-mae:0.038891\n",
      "[50]\teval-mae:0.043159\ttrain-mae:0.038405\n",
      "[51]\teval-mae:0.043137\ttrain-mae:0.038359\n",
      "[52]\teval-mae:0.043284\ttrain-mae:0.03831\n",
      "[53]\teval-mae:0.043173\ttrain-mae:0.03826\n",
      "[54]\teval-mae:0.043166\ttrain-mae:0.038229\n",
      "[55]\teval-mae:0.043275\ttrain-mae:0.038191\n",
      "[56]\teval-mae:0.043305\ttrain-mae:0.038179\n",
      "[57]\teval-mae:0.043893\ttrain-mae:0.037833\n",
      "[58]\teval-mae:0.043789\ttrain-mae:0.037596\n",
      "[59]\teval-mae:0.043664\ttrain-mae:0.037498\n",
      "[60]\teval-mae:0.043568\ttrain-mae:0.037392\n",
      "[61]\teval-mae:0.043834\ttrain-mae:0.037148\n",
      "[62]\teval-mae:0.043877\ttrain-mae:0.037103\n",
      "[63]\teval-mae:0.043941\ttrain-mae:0.036994\n",
      "[64]\teval-mae:0.043953\ttrain-mae:0.036964\n",
      "[65]\teval-mae:0.043899\ttrain-mae:0.036831\n",
      "[66]\teval-mae:0.04396\ttrain-mae:0.036804\n",
      "[67]\teval-mae:0.043902\ttrain-mae:0.036733\n",
      "[68]\teval-mae:0.043883\ttrain-mae:0.036703\n",
      "[69]\teval-mae:0.043895\ttrain-mae:0.036713\n",
      "[70]\teval-mae:0.043833\ttrain-mae:0.036702\n",
      "[71]\teval-mae:0.043868\ttrain-mae:0.036681\n",
      "[72]\teval-mae:0.043873\ttrain-mae:0.036674\n",
      "[73]\teval-mae:0.043834\ttrain-mae:0.03669\n",
      "[74]\teval-mae:0.043832\ttrain-mae:0.036633\n",
      "[75]\teval-mae:0.043843\ttrain-mae:0.036635\n",
      "[76]\teval-mae:0.043641\ttrain-mae:0.036472\n",
      "[77]\teval-mae:0.043703\ttrain-mae:0.036453\n",
      "[78]\teval-mae:0.0437\ttrain-mae:0.036445\n",
      "[79]\teval-mae:0.043655\ttrain-mae:0.036412\n",
      "[80]\teval-mae:0.043685\ttrain-mae:0.036428\n",
      "[81]\teval-mae:0.043998\ttrain-mae:0.036422\n",
      "[82]\teval-mae:0.044018\ttrain-mae:0.036388\n",
      "[83]\teval-mae:0.044055\ttrain-mae:0.036385\n",
      "[84]\teval-mae:0.043848\ttrain-mae:0.036338\n",
      "[85]\teval-mae:0.043729\ttrain-mae:0.036047\n",
      "[86]\teval-mae:0.043723\ttrain-mae:0.035957\n",
      "[87]\teval-mae:0.043714\ttrain-mae:0.035937\n",
      "[88]\teval-mae:0.043797\ttrain-mae:0.035992\n",
      "[89]\teval-mae:0.043516\ttrain-mae:0.035357\n",
      "[90]\teval-mae:0.043805\ttrain-mae:0.035258\n",
      "[91]\teval-mae:0.043498\ttrain-mae:0.035025\n",
      "[92]\teval-mae:0.043535\ttrain-mae:0.034836\n",
      "[93]\teval-mae:0.043727\ttrain-mae:0.034654\n",
      "[94]\teval-mae:0.04344\ttrain-mae:0.034399\n",
      "[95]\teval-mae:0.043695\ttrain-mae:0.034129\n",
      "[96]\teval-mae:0.043899\ttrain-mae:0.034047\n",
      "[97]\teval-mae:0.043911\ttrain-mae:0.033993\n",
      "[98]\teval-mae:0.043816\ttrain-mae:0.033897\n",
      "[99]\teval-mae:0.043621\ttrain-mae:0.033709\n",
      "[100]\teval-mae:0.043631\ttrain-mae:0.033653\n",
      "[101]\teval-mae:0.043639\ttrain-mae:0.033651\n",
      "[102]\teval-mae:0.043634\ttrain-mae:0.033658\n",
      "[103]\teval-mae:0.043579\ttrain-mae:0.03366\n",
      "[104]\teval-mae:0.043679\ttrain-mae:0.03365\n",
      "[105]\teval-mae:0.043642\ttrain-mae:0.033627\n",
      "[106]\teval-mae:0.043634\ttrain-mae:0.033592\n",
      "[107]\teval-mae:0.043633\ttrain-mae:0.033551\n",
      "[108]\teval-mae:0.043641\ttrain-mae:0.033536\n",
      "[109]\teval-mae:0.043595\ttrain-mae:0.033523\n",
      "[110]\teval-mae:0.043686\ttrain-mae:0.033481\n",
      "[111]\teval-mae:0.043692\ttrain-mae:0.033469\n",
      "[112]\teval-mae:0.043752\ttrain-mae:0.033467\n",
      "[113]\teval-mae:0.043791\ttrain-mae:0.033459\n",
      "[114]\teval-mae:0.043608\ttrain-mae:0.033365\n",
      "[115]\teval-mae:0.043595\ttrain-mae:0.03335\n",
      "[116]\teval-mae:0.043581\ttrain-mae:0.033347\n",
      "[117]\teval-mae:0.043615\ttrain-mae:0.033349\n",
      "[118]\teval-mae:0.04359\ttrain-mae:0.033313\n",
      "[119]\teval-mae:0.043713\ttrain-mae:0.033271\n",
      "[120]\teval-mae:0.043667\ttrain-mae:0.033261\n",
      "[121]\teval-mae:0.043607\ttrain-mae:0.033212\n",
      "[122]\teval-mae:0.043644\ttrain-mae:0.033241\n",
      "[123]\teval-mae:0.04369\ttrain-mae:0.033226\n",
      "[124]\teval-mae:0.043823\ttrain-mae:0.033244\n",
      "[125]\teval-mae:0.043778\ttrain-mae:0.033252\n",
      "[126]\teval-mae:0.043793\ttrain-mae:0.033247\n",
      "[127]\teval-mae:0.043811\ttrain-mae:0.033243\n",
      "[128]\teval-mae:0.043825\ttrain-mae:0.033242\n",
      "[129]\teval-mae:0.043823\ttrain-mae:0.03323\n",
      "[130]\teval-mae:0.043819\ttrain-mae:0.03321\n",
      "[131]\teval-mae:0.043767\ttrain-mae:0.033161\n",
      "[132]\teval-mae:0.043871\ttrain-mae:0.033017\n",
      "[133]\teval-mae:0.043915\ttrain-mae:0.032984\n",
      "[134]\teval-mae:0.043671\ttrain-mae:0.032892\n",
      "[135]\teval-mae:0.043613\ttrain-mae:0.032859\n",
      "[136]\teval-mae:0.04347\ttrain-mae:0.032759\n",
      "[137]\teval-mae:0.04337\ttrain-mae:0.032542\n",
      "[138]\teval-mae:0.043452\ttrain-mae:0.03255\n",
      "[139]\teval-mae:0.043512\ttrain-mae:0.032499\n",
      "[140]\teval-mae:0.043496\ttrain-mae:0.032504\n",
      "[141]\teval-mae:0.043443\ttrain-mae:0.032436\n",
      "[142]\teval-mae:0.043427\ttrain-mae:0.032436\n",
      "[143]\teval-mae:0.043409\ttrain-mae:0.032415\n",
      "[144]\teval-mae:0.043467\ttrain-mae:0.032366\n",
      "[145]\teval-mae:0.04341\ttrain-mae:0.032193\n",
      "[146]\teval-mae:0.043659\ttrain-mae:0.032126\n",
      "[147]\teval-mae:0.043697\ttrain-mae:0.03213\n",
      "[148]\teval-mae:0.04364\ttrain-mae:0.032191\n",
      "[149]\teval-mae:0.043608\ttrain-mae:0.032169\n",
      "[150]\teval-mae:0.043718\ttrain-mae:0.032149\n",
      "[151]\teval-mae:0.043692\ttrain-mae:0.032134\n",
      "[152]\teval-mae:0.043647\ttrain-mae:0.03213\n",
      "[153]\teval-mae:0.043626\ttrain-mae:0.032132\n",
      "[154]\teval-mae:0.043613\ttrain-mae:0.032114\n",
      "[155]\teval-mae:0.043622\ttrain-mae:0.032083\n",
      "[156]\teval-mae:0.043725\ttrain-mae:0.032182\n",
      "[157]\teval-mae:0.043782\ttrain-mae:0.032174\n",
      "[158]\teval-mae:0.043664\ttrain-mae:0.031776\n",
      "[159]\teval-mae:0.043612\ttrain-mae:0.031709\n",
      "[160]\teval-mae:0.043648\ttrain-mae:0.031521\n",
      "[161]\teval-mae:0.043625\ttrain-mae:0.031517\n",
      "[162]\teval-mae:0.043821\ttrain-mae:0.03148\n",
      "[163]\teval-mae:0.043825\ttrain-mae:0.031475\n",
      "[164]\teval-mae:0.04368\ttrain-mae:0.031344\n",
      "[165]\teval-mae:0.043704\ttrain-mae:0.031108\n",
      "[166]\teval-mae:0.043596\ttrain-mae:0.030957\n",
      "[167]\teval-mae:0.043469\ttrain-mae:0.030789\n",
      "[168]\teval-mae:0.043691\ttrain-mae:0.030758\n",
      "[169]\teval-mae:0.043732\ttrain-mae:0.030727\n",
      "[170]\teval-mae:0.043655\ttrain-mae:0.030712\n",
      "[171]\teval-mae:0.043744\ttrain-mae:0.030571\n",
      "[172]\teval-mae:0.043722\ttrain-mae:0.030566\n",
      "[173]\teval-mae:0.043576\ttrain-mae:0.030527\n",
      "[174]\teval-mae:0.043561\ttrain-mae:0.030588\n",
      "[175]\teval-mae:0.043622\ttrain-mae:0.030621\n",
      "[176]\teval-mae:0.043611\ttrain-mae:0.030572\n",
      "[177]\teval-mae:0.043624\ttrain-mae:0.030579\n",
      "[178]\teval-mae:0.043598\ttrain-mae:0.030562\n",
      "[179]\teval-mae:0.043588\ttrain-mae:0.030557\n",
      "[180]\teval-mae:0.043516\ttrain-mae:0.030477\n",
      "[181]\teval-mae:0.043483\ttrain-mae:0.030444\n",
      "[182]\teval-mae:0.043605\ttrain-mae:0.030328\n",
      "[183]\teval-mae:0.043711\ttrain-mae:0.030328\n",
      "[184]\teval-mae:0.043873\ttrain-mae:0.030081\n",
      "[185]\teval-mae:0.043957\ttrain-mae:0.030043\n",
      "[186]\teval-mae:0.044032\ttrain-mae:0.029992\n",
      "[187]\teval-mae:0.044073\ttrain-mae:0.029879\n",
      "[188]\teval-mae:0.043883\ttrain-mae:0.02987\n",
      "[189]\teval-mae:0.043825\ttrain-mae:0.029845\n",
      "[190]\teval-mae:0.043836\ttrain-mae:0.029829\n",
      "[191]\teval-mae:0.043832\ttrain-mae:0.029818\n",
      "[192]\teval-mae:0.044086\ttrain-mae:0.029742\n",
      "[193]\teval-mae:0.044056\ttrain-mae:0.029664\n",
      "[194]\teval-mae:0.044009\ttrain-mae:0.029629\n",
      "[195]\teval-mae:0.043844\ttrain-mae:0.02948\n",
      "[196]\teval-mae:0.043874\ttrain-mae:0.029488\n",
      "[197]\teval-mae:0.043872\ttrain-mae:0.029484\n",
      "[198]\teval-mae:0.043857\ttrain-mae:0.029482\n",
      "[199]\teval-mae:0.043889\ttrain-mae:0.02947\n"
     ]
    }
   ],
   "source": [
    "file = \"970_1_data.csv\"\n",
    "lags = 12\n",
    "X_train, y_train, X_test, y_test, scaler = process_data(file, lags)\n",
    "\n",
    "param = {'max_depth': 2, 'eta': 1, 'objective': 'reg:gamma'}\n",
    "param['nthread'] = 4\n",
    "param['eval_metric'] = 'mae'\n",
    "\n",
    "dtrain = xgb.DMatrix(X_train, label=y_train)\n",
    "dtest = xgb.DMatrix(X_test, label=y_test)\n",
    "\n",
    "evallist = [(dtest, 'eval'), (dtrain, 'train')]\n",
    "\n",
    "num_round = 200\n",
    "bst = xgb.train(param, dtrain, num_round,evallist)\n",
    "\n",
    "\n",
    "# dtest = xgb.DMatrix(X_test)\n",
    "# ypred = bst.predict(dtest)"
   ]
  },
  {
   "cell_type": "code",
   "execution_count": 151,
   "metadata": {},
   "outputs": [
    {
     "name": "stdout",
     "output_type": "stream",
     "text": [
      "[158.53462  148.01189  138.78798  124.139824 113.78097  126.34879\n",
      " 117.40943  129.4957   129.97617   94.59852 ]\n"
     ]
    }
   ],
   "source": [
    "pred = scaler.inverse_transform(ypred.reshape(-1, 1)).reshape(1, -1)[0]\n",
    "print(pred[:10])"
   ]
  },
  {
   "cell_type": "code",
   "execution_count": 120,
   "metadata": {},
   "outputs": [
    {
     "data": {
      "text/plain": [
       "array([135., 137., 131., 118., 124., 128., 132., 127.,  87.,  92.])"
      ]
     },
     "execution_count": 120,
     "metadata": {},
     "output_type": "execute_result"
    }
   ],
   "source": [
    "y_test1 = scaler.inverse_transform(y_test.reshape(-1, 1)).reshape(1, -1)[0]\n",
    "y_test1[:10]"
   ]
  },
  {
   "cell_type": "code",
   "execution_count": 143,
   "metadata": {},
   "outputs": [
    {
     "data": {
      "text/plain": [
       "(384,)"
      ]
     },
     "execution_count": 143,
     "metadata": {},
     "output_type": "execute_result"
    }
   ],
   "source": [
    "x.shape"
   ]
  },
  {
   "cell_type": "code",
   "execution_count": 161,
   "metadata": {},
   "outputs": [],
   "source": [
    "from keras.models import load_model\n",
    "lstm = load_model('../TrafficFlowPrediction-master/model/gru.h5')"
   ]
  },
  {
   "cell_type": "code",
   "execution_count": 162,
   "metadata": {},
   "outputs": [
    {
     "ename": "ValueError",
     "evalue": "Error when checking input: expected gru_1_input to have 3 dimensions, but got array with shape (584, 12)",
     "output_type": "error",
     "traceback": [
      "\u001b[0;31m---------------------------------------------------------------------------\u001b[0m",
      "\u001b[0;31mValueError\u001b[0m                                Traceback (most recent call last)",
      "\u001b[0;32m<ipython-input-162-ad7647530ca8>\u001b[0m in \u001b[0;36m<module>\u001b[0;34m\u001b[0m\n\u001b[0;32m----> 1\u001b[0;31m \u001b[0mlstm_predicted\u001b[0m \u001b[0;34m=\u001b[0m \u001b[0mlstm\u001b[0m\u001b[0;34m.\u001b[0m\u001b[0mpredict\u001b[0m\u001b[0;34m(\u001b[0m\u001b[0mX_test\u001b[0m\u001b[0;34m)\u001b[0m\u001b[0;34m\u001b[0m\u001b[0;34m\u001b[0m\u001b[0m\n\u001b[0m",
      "\u001b[0;32m~/anaconda3/lib/python3.7/site-packages/keras/engine/training.py\u001b[0m in \u001b[0;36mpredict\u001b[0;34m(self, x, batch_size, verbose, steps, callbacks, max_queue_size, workers, use_multiprocessing)\u001b[0m\n\u001b[1;32m   1378\u001b[0m \u001b[0;34m\u001b[0m\u001b[0m\n\u001b[1;32m   1379\u001b[0m         \u001b[0;31m# Case 2: Symbolic tensors or Numpy array-like.\u001b[0m\u001b[0;34m\u001b[0m\u001b[0;34m\u001b[0m\u001b[0;34m\u001b[0m\u001b[0m\n\u001b[0;32m-> 1380\u001b[0;31m         \u001b[0mx\u001b[0m\u001b[0;34m,\u001b[0m \u001b[0m_\u001b[0m\u001b[0;34m,\u001b[0m \u001b[0m_\u001b[0m \u001b[0;34m=\u001b[0m \u001b[0mself\u001b[0m\u001b[0;34m.\u001b[0m\u001b[0m_standardize_user_data\u001b[0m\u001b[0;34m(\u001b[0m\u001b[0mx\u001b[0m\u001b[0;34m)\u001b[0m\u001b[0;34m\u001b[0m\u001b[0;34m\u001b[0m\u001b[0m\n\u001b[0m\u001b[1;32m   1381\u001b[0m         \u001b[0;32mif\u001b[0m \u001b[0mself\u001b[0m\u001b[0;34m.\u001b[0m\u001b[0mstateful\u001b[0m\u001b[0;34m:\u001b[0m\u001b[0;34m\u001b[0m\u001b[0;34m\u001b[0m\u001b[0m\n\u001b[1;32m   1382\u001b[0m             \u001b[0;32mif\u001b[0m \u001b[0mx\u001b[0m\u001b[0;34m[\u001b[0m\u001b[0;36m0\u001b[0m\u001b[0;34m]\u001b[0m\u001b[0;34m.\u001b[0m\u001b[0mshape\u001b[0m\u001b[0;34m[\u001b[0m\u001b[0;36m0\u001b[0m\u001b[0;34m]\u001b[0m \u001b[0;34m>\u001b[0m \u001b[0mbatch_size\u001b[0m \u001b[0;32mand\u001b[0m \u001b[0mx\u001b[0m\u001b[0;34m[\u001b[0m\u001b[0;36m0\u001b[0m\u001b[0;34m]\u001b[0m\u001b[0;34m.\u001b[0m\u001b[0mshape\u001b[0m\u001b[0;34m[\u001b[0m\u001b[0;36m0\u001b[0m\u001b[0;34m]\u001b[0m \u001b[0;34m%\u001b[0m \u001b[0mbatch_size\u001b[0m \u001b[0;34m!=\u001b[0m \u001b[0;36m0\u001b[0m\u001b[0;34m:\u001b[0m\u001b[0;34m\u001b[0m\u001b[0;34m\u001b[0m\u001b[0m\n",
      "\u001b[0;32m~/anaconda3/lib/python3.7/site-packages/keras/engine/training.py\u001b[0m in \u001b[0;36m_standardize_user_data\u001b[0;34m(self, x, y, sample_weight, class_weight, check_array_lengths, batch_size)\u001b[0m\n\u001b[1;32m    755\u001b[0m             \u001b[0mfeed_input_shapes\u001b[0m\u001b[0;34m,\u001b[0m\u001b[0;34m\u001b[0m\u001b[0;34m\u001b[0m\u001b[0m\n\u001b[1;32m    756\u001b[0m             \u001b[0mcheck_batch_axis\u001b[0m\u001b[0;34m=\u001b[0m\u001b[0;32mFalse\u001b[0m\u001b[0;34m,\u001b[0m  \u001b[0;31m# Don't enforce the batch size.\u001b[0m\u001b[0;34m\u001b[0m\u001b[0;34m\u001b[0m\u001b[0m\n\u001b[0;32m--> 757\u001b[0;31m             exception_prefix='input')\n\u001b[0m\u001b[1;32m    758\u001b[0m \u001b[0;34m\u001b[0m\u001b[0m\n\u001b[1;32m    759\u001b[0m         \u001b[0;32mif\u001b[0m \u001b[0my\u001b[0m \u001b[0;32mis\u001b[0m \u001b[0;32mnot\u001b[0m \u001b[0;32mNone\u001b[0m\u001b[0;34m:\u001b[0m\u001b[0;34m\u001b[0m\u001b[0;34m\u001b[0m\u001b[0m\n",
      "\u001b[0;32m~/anaconda3/lib/python3.7/site-packages/keras/engine/training_utils.py\u001b[0m in \u001b[0;36mstandardize_input_data\u001b[0;34m(data, names, shapes, check_batch_axis, exception_prefix)\u001b[0m\n\u001b[1;32m    129\u001b[0m                         \u001b[0;34m': expected '\u001b[0m \u001b[0;34m+\u001b[0m \u001b[0mnames\u001b[0m\u001b[0;34m[\u001b[0m\u001b[0mi\u001b[0m\u001b[0;34m]\u001b[0m \u001b[0;34m+\u001b[0m \u001b[0;34m' to have '\u001b[0m \u001b[0;34m+\u001b[0m\u001b[0;34m\u001b[0m\u001b[0;34m\u001b[0m\u001b[0m\n\u001b[1;32m    130\u001b[0m                         \u001b[0mstr\u001b[0m\u001b[0;34m(\u001b[0m\u001b[0mlen\u001b[0m\u001b[0;34m(\u001b[0m\u001b[0mshape\u001b[0m\u001b[0;34m)\u001b[0m\u001b[0;34m)\u001b[0m \u001b[0;34m+\u001b[0m \u001b[0;34m' dimensions, but got array '\u001b[0m\u001b[0;34m\u001b[0m\u001b[0;34m\u001b[0m\u001b[0m\n\u001b[0;32m--> 131\u001b[0;31m                         'with shape ' + str(data_shape))\n\u001b[0m\u001b[1;32m    132\u001b[0m                 \u001b[0;32mif\u001b[0m \u001b[0;32mnot\u001b[0m \u001b[0mcheck_batch_axis\u001b[0m\u001b[0;34m:\u001b[0m\u001b[0;34m\u001b[0m\u001b[0;34m\u001b[0m\u001b[0m\n\u001b[1;32m    133\u001b[0m                     \u001b[0mdata_shape\u001b[0m \u001b[0;34m=\u001b[0m \u001b[0mdata_shape\u001b[0m\u001b[0;34m[\u001b[0m\u001b[0;36m1\u001b[0m\u001b[0;34m:\u001b[0m\u001b[0;34m]\u001b[0m\u001b[0;34m\u001b[0m\u001b[0;34m\u001b[0m\u001b[0m\n",
      "\u001b[0;31mValueError\u001b[0m: Error when checking input: expected gru_1_input to have 3 dimensions, but got array with shape (584, 12)"
     ]
    }
   ],
   "source": [
    "lstm_predicted = lstm.predict(X_test)"
   ]
  },
  {
   "cell_type": "code",
   "execution_count": 154,
   "metadata": {},
   "outputs": [
    {
     "data": {
      "image/png": "[encoded data removed]",
      "text/plain": [
       "<Figure size 432x288 with 1 Axes>"
      ]
     },
     "metadata": {},
     "output_type": "display_data"
    }
   ],
   "source": [
    "import matplotlib as mpl\n",
    "d = '2006-10-25 19:00'\n",
    "x = pd.date_range(d, periods=384, freq='15min')\n",
    "\n",
    "fig = plt.figure()\n",
    "ax = fig.add_subplot(111)\n",
    "\n",
    "ax.plot(x, y_test1[:384], label='True Data')\n",
    "\n",
    "ax.plot(x, pred[:384], label=\"xgboost\")\n",
    "ax.plot(x, predicted[:384], label=\"knn\")\n",
    "\n",
    "plt.legend()\n",
    "plt.grid(True)\n",
    "plt.xlabel('Time of Day')\n",
    "plt.ylabel('Flow')\n",
    "\n",
    "date_format = mpl.dates.DateFormatter(\"%H:%M\")\n",
    "ax.xaxis.set_major_formatter(date_format)\n",
    "fig.autofmt_xdate()\n",
    "\n",
    "plt.show()"
   ]
  },
  {
   "cell_type": "code",
   "execution_count": null,
   "metadata": {},
   "outputs": [],
   "source": []
  }
 ],
 "metadata": {
  "kernelspec": {
   "display_name": "Python 3",
   "language": "python",
   "name": "python3"
  },
  "language_info": {
   "codemirror_mode": {
    "name": "ipython",
    "version": 3
   },
   "file_extension": ".py",
   "mimetype": "text/x-python",
   "name": "python",
   "nbconvert_exporter": "python",
   "pygments_lexer": "ipython3",
   "version": "3.7.3"
  }
 },
 "nbformat": 4,
 "nbformat_minor": 2
}
