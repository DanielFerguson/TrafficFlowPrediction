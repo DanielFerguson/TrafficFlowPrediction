{
 "cells": [
  {
   "cell_type": "code",
   "execution_count": 33,
   "metadata": {},
   "outputs": [],
   "source": [
    "from datetime import date, timedelta,datetime\n",
    "import csv\n",
    "import os"
   ]
  },
  {
   "cell_type": "code",
   "execution_count": 34,
   "metadata": {},
   "outputs": [
    {
     "name": "stdout",
     "output_type": "stream",
     "text": [
      "2006-10-01 1\n",
      "2006-10-02 0\n",
      "2006-10-03 0\n",
      "2006-10-04 0\n",
      "2006-10-05 0\n",
      "2006-10-06 0\n",
      "2006-10-07 1\n",
      "2006-10-08 1\n",
      "2006-10-09 0\n",
      "2006-10-10 0\n",
      "2006-10-11 0\n",
      "2006-10-12 0\n",
      "2006-10-13 0\n",
      "2006-10-14 1\n",
      "2006-10-15 1\n",
      "2006-10-16 0\n",
      "2006-10-17 0\n",
      "2006-10-18 0\n",
      "2006-10-19 0\n",
      "2006-10-20 0\n",
      "2006-10-21 1\n",
      "2006-10-22 1\n",
      "2006-10-23 0\n",
      "2006-10-24 0\n",
      "2006-10-25 0\n",
      "2006-10-26 0\n",
      "2006-10-27 0\n",
      "2006-10-28 1\n",
      "2006-10-29 1\n",
      "2006-10-30 0\n",
      "2006-10-31 0\n"
     ]
    }
   ],
   "source": [
    "sdate = date(2006, 10, 1)   # start date\n",
    "edate = date(2006, 10, 31)   # end date\n",
    "\n",
    "time_period = edate - sdate       # as time period\n",
    "\n",
    "oct_rain_mm = []\n",
    "\n",
    "with open(\"rain_weekend.csv\", mode='w+') as csv_file:\n",
    "    writer = csv.DictWriter(csv_file, fieldnames=['date','weekend','rain_mm'])\n",
    "    if not (os.path.exists('test_new_crop_coco.csv')): \n",
    "        writer.writeheader()\n",
    "    for i in range(time_period.days + 1):\n",
    "        day = sdate + timedelta(days=i)\n",
    "        weekend = 0\n",
    "        if day.weekday() > 4:\n",
    "            weekend = 1\n",
    "        print(day,weekend)\n",
    "        writer.writerow({'date': day, 'weekend': weekend})\n",
    "    "
   ]
  },
  {
   "cell_type": "code",
   "execution_count": null,
   "metadata": {},
   "outputs": [],
   "source": []
  }
 ],
 "metadata": {
  "kernelspec": {
   "display_name": "Python 3",
   "language": "python",
   "name": "python3"
  },
  "language_info": {
   "codemirror_mode": {
    "name": "ipython",
    "version": 3
   },
   "file_extension": ".py",
   "mimetype": "text/x-python",
   "name": "python",
   "nbconvert_exporter": "python",
   "pygments_lexer": "ipython3",
   "version": "3.7.3"
  }
 },
 "nbformat": 4,
 "nbformat_minor": 2
}
