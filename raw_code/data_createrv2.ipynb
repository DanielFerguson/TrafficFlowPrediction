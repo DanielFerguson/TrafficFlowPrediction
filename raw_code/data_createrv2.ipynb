{
 "cells": [
  {
   "cell_type": "code",
   "execution_count": 8,
   "metadata": {},
   "outputs": [],
   "source": [
    "import numpy as np\n",
    "import pandas as pd\n",
    "from sklearn.preprocessing import StandardScaler, MinMaxScaler,normalize\n"
   ]
  },
  {
   "cell_type": "code",
   "execution_count": 121,
   "metadata": {},
   "outputs": [],
   "source": [
    "def process_data(file, lags):\n",
    "    \"\"\"Process data\n",
    "    Reshape and split train\\test data.\n",
    "    # Arguments\n",
    "        train: String, name of .csv train file.\n",
    "        test: String, name of .csv test file.\n",
    "        lags: integer, time lag.\n",
    "    # Returns\n",
    "        X_train: ndarray.\n",
    "        y_train: ndarray.\n",
    "        X_test: ndarray.\n",
    "        y_test: ndarray.\n",
    "        scaler: StandardScaler.\n",
    "    \"\"\"\n",
    "    \n",
    "#     read csv file\n",
    "    df = pd.read_csv(\"/Users/ditlswin/Documents/rkaul/traffic_flow_predi/TrafficFlowPrediction-master/data/{}\".format(file), encoding='utf-8',header=None).fillna(0)\n",
    "\n",
    "    df2 = pd.read_csv(\"/Users/ditlswin/Documents/rkaul/traffic_flow_predi/TrafficFlowPrediction-master/data/rain_weekend.csv\", encoding='utf-8').fillna(0)\n",
    "   \n",
    "    weekend = list(df2['weekend'])\n",
    "    rainfall_data = list(df2['rain_mm'])\n",
    "  \n",
    "    weekend = list([item]*96 for item in weekend)\n",
    "    weekend = np.array(weekend)  \n",
    "    weekend = weekend.ravel()\n",
    "    \n",
    "  \n",
    "    rainfall_data = list([item]*96 for item in rainfall_data)\n",
    "    rainfall_data = np.array(rainfall_data)  \n",
    "    rainfall_data = rainfall_data.ravel()\n",
    "\n",
    "\n",
    "    \n",
    "#   read all the vehicle/15min in one array   \n",
    "    flow = np.array(df.iloc[:,3:])\n",
    "    flow = flow.ravel()\n",
    "\n",
    "\n",
    "    \n",
    "#     normalize all the values  \n",
    "    scaler = MinMaxScaler(feature_range=(0, 1)).fit(flow.reshape(-1, 1))\n",
    "    normalized_flow = scaler.transform(flow.reshape(-1, 1)).reshape(1, -1)[0]\n",
    "    \n",
    "#     append all data together\n",
    "    normalized_flow = np.vstack([normalized_flow, rainfall_data,weekend])\n",
    "\n",
    "\n",
    "#     splitting the file into train and test dataset\n",
    "    split = int(normalized_flow.shape[1] * 0.8)\n",
    "    \n",
    "    flow1 = normalized_flow[:,:split]\n",
    "    flow2 = normalized_flow[:,split:]\n",
    "    \n",
    "    \n",
    "    train, test = [], []\n",
    "    for i in range(lags, flow1.shape[1]):\n",
    "        train.append(flow1[:,i - lags: i + 1])\n",
    "    for i in range(lags, flow2.shape[1]):\n",
    "        test.append(flow2[:,i - lags: i + 1])\n",
    "\n",
    "    train = np.array(train)\n",
    "    test = np.array(test)\n",
    "    np.random.shuffle(train)\n",
    "\n",
    "    X_train = train[:, :, :-1]\n",
    "    print(X_train.shape)\n",
    "    y_train = train[:, 0, -1]\n",
    "    print(y_train)\n",
    "    X_test = test[:, :, :-1]\n",
    "    y_test = test[:, 0, -1]\n",
    "\n",
    "    return X_train, y_train, X_test, y_test, scaler"
   ]
  },
  {
   "cell_type": "code",
   "execution_count": 122,
   "metadata": {},
   "outputs": [
    {
     "name": "stdout",
     "output_type": "stream",
     "text": [
      "(2368, 3, 12)\n",
      "[0.06444444 0.05111111 0.71555556 ... 0.53111111 0.27333333 0.56666667]\n"
     ]
    }
   ],
   "source": [
    "X_train, y_train, X_test, y_test, scaler = process_data(\"970_1_data.csv\", 12)"
   ]
  },
  {
   "cell_type": "code",
   "execution_count": null,
   "metadata": {},
   "outputs": [],
   "source": []
  }
 ],
 "metadata": {
  "kernelspec": {
   "display_name": "Python 3",
   "language": "python",
   "name": "python3"
  },
  "language_info": {
   "codemirror_mode": {
    "name": "ipython",
    "version": 3
   },
   "file_extension": ".py",
   "mimetype": "text/x-python",
   "name": "python",
   "nbconvert_exporter": "python",
   "pygments_lexer": "ipython3",
   "version": "3.7.3"
  }
 },
 "nbformat": 4,
 "nbformat_minor": 2
}
