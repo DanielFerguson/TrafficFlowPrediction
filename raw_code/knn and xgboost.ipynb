{
 "cells": [
  {
   "cell_type": "code",
   "execution_count": 19,
   "metadata": {},
   "outputs": [],
   "source": [
    "import numpy as np\n",
    "import pandas as pd\n",
    "from matplotlib import pyplot as plt\n",
    "from sklearn.metrics import confusion_matrix\n",
    "from sklearn.neighbors import KNeighborsClassifier\n",
    "import seaborn as sns\n",
    "import pickle\n",
    "import xgboost as xgb\n",
    "from sklearn.preprocessing import StandardScaler, MinMaxScaler,normalize\n",
    "sns.set()"
   ]
  },
  {
   "cell_type": "code",
   "execution_count": 6,
   "metadata": {},
   "outputs": [],
   "source": [
    "def process_data(file, lags):\n",
    "    \"\"\"Process data\n",
    "    Reshape and split train\\test data.\n",
    "    # Arguments\n",
    "        train: String, name of .csv train file.\n",
    "        test: String, name of .csv test file.\n",
    "        lags: integer, time lag.\n",
    "    # Returns\n",
    "        X_train: ndarray.\n",
    "        y_train: ndarray.\n",
    "        X_test: ndarray.\n",
    "        y_test: ndarray.\n",
    "        scaler: StandardScaler.\n",
    "    \"\"\"\n",
    "    \n",
    "#     read csv file\n",
    "    df = pd.read_csv(\"/Users/ditlswin/Documents/rkaul/traffic_flow_predi/TrafficFlowPrediction-master/data/{}\".format(file), encoding='utf-8',header=None).fillna(0)\n",
    "\n",
    "#   read all the vehicle/15min in one array   \n",
    "    flow = np.array(df.iloc[:,3:])\n",
    "    flow = flow.ravel()\n",
    "\n",
    "    \n",
    "#     normalize all the values  \n",
    "    scaler = MinMaxScaler(feature_range=(0, 1)).fit(flow.reshape(-1, 1))\n",
    "    normalized_flow = scaler.transform(flow.reshape(-1, 1)).reshape(1, -1)[0]\n",
    "    \n",
    "\n",
    "#     splitting the file into train and test dataset\n",
    "    split = int(normalized_flow.shape[0] * 0.8)\n",
    "    \n",
    "    flow1 = normalized_flow[:split]\n",
    "    flow2 = normalized_flow[split:]\n",
    "    \n",
    "    \n",
    "    train, test = [], []\n",
    "    for i in range(lags, len(flow1)):\n",
    "        train.append(flow1[i - lags: i + 1])\n",
    "    for i in range(lags, len(flow2)):\n",
    "        test.append(flow2[i - lags: i + 1])\n",
    "\n",
    "    train = np.array(train)\n",
    "    test = np.array(test)\n",
    "    np.random.shuffle(train)\n",
    "\n",
    "    X_train = train[:, :-1]\n",
    "    y_train = train[:, -1]\n",
    "    X_test = test[:, :-1]\n",
    "    y_test = test[:, -1]\n",
    "\n",
    "    return X_train, y_train, X_test, y_test, scaler"
   ]
  },
  {
   "cell_type": "code",
   "execution_count": 7,
   "metadata": {},
   "outputs": [],
   "source": [
    "file = \"970_1_data.csv\"\n",
    "lags = 12\n",
    "X_train, y_train, X_test, y_test, scaler = process_data(file, lags)"
   ]
  },
  {
   "cell_type": "code",
   "execution_count": 11,
   "metadata": {},
   "outputs": [
    {
     "name": "stdout",
     "output_type": "stream",
     "text": [
      "RMSE value for k=  1 is: 0.06818911040341162\n",
      "RMSE value for k=  2 is: 0.0563491642396077\n",
      "RMSE value for k=  3 is: 0.05379577125380491\n",
      "RMSE value for k=  4 is: 0.051575317971021176\n",
      "RMSE value for k=  5 is: 0.05119863130780938\n",
      "RMSE value for k=  6 is: 0.05030116283676832\n",
      "RMSE value for k=  7 is: 0.050244783691162274\n",
      "RMSE value for k=  8 is: 0.04981418945606994\n",
      "RMSE value for k=  9 is: 0.04967841769421181\n",
      "RMSE value for k=  10 is: 0.049493918606524356\n",
      "RMSE value for k=  11 is: 0.04898911369818478\n",
      "RMSE value for k=  12 is: 0.04904074174560658\n",
      "RMSE value for k=  13 is: 0.04921088002292766\n",
      "RMSE value for k=  14 is: 0.04970726933656437\n",
      "RMSE value for k=  15 is: 0.0499816434725535\n",
      "RMSE value for k=  16 is: 0.04988989864839339\n",
      "RMSE value for k=  17 is: 0.049996069147947596\n",
      "RMSE value for k=  18 is: 0.04999598300400021\n",
      "RMSE value for k=  19 is: 0.05011208522140469\n",
      "RMSE value for k=  20 is: 0.050092027393133856\n",
      "RMSE value for k=  21 is: 0.04989805928101102\n",
      "RMSE value for k=  22 is: 0.04989482654589742\n",
      "RMSE value for k=  23 is: 0.049801395023920454\n",
      "RMSE value for k=  24 is: 0.04974941803663381\n",
      "RMSE value for k=  25 is: 0.049975858470867905\n"
     ]
    }
   ],
   "source": [
    "from sklearn import neighbors\n",
    "from sklearn.metrics import mean_squared_error \n",
    "from math import sqrt\n",
    "\n",
    "rmse_val = [] #to store rmse values for different k\n",
    "for K in range(25):\n",
    "    K = K+1\n",
    "    model = neighbors.KNeighborsRegressor(n_neighbors = K)\n",
    "\n",
    "    model.fit(X_train, y_train)  #fit the model\n",
    "    pred=model.predict(X_test) #make prediction on test set\n",
    "    error = sqrt(mean_squared_error(y_test,pred)) #calculate rmse\n",
    "    rmse_val.append(error) #store rmse values\n",
    "    print('RMSE value for k= ' , K , 'is:', error)"
   ]
  },
  {
   "cell_type": "code",
   "execution_count": 14,
   "metadata": {},
   "outputs": [],
   "source": [
    "pickle.dump(model, open(\"knn.model\", 'wb'))"
   ]
  },
  {
   "cell_type": "code",
   "execution_count": 15,
   "metadata": {},
   "outputs": [],
   "source": [
    "pred=model.predict(X_test)"
   ]
  },
  {
   "cell_type": "code",
   "execution_count": 16,
   "metadata": {},
   "outputs": [],
   "source": [
    "predicted = scaler.inverse_transform(pred.reshape(-1, 1)).reshape(1, -1)[0]"
   ]
  },
  {
   "cell_type": "code",
   "execution_count": 17,
   "metadata": {},
   "outputs": [],
   "source": [
    "y_test = scaler.inverse_transform(y_test.reshape(-1, 1)).reshape(1, -1)[0]"
   ]
  },
  {
   "cell_type": "code",
   "execution_count": 27,
   "metadata": {},
   "outputs": [
    {
     "name": "stdout",
     "output_type": "stream",
     "text": [
      "[0]\teval-mae:0.077077\ttrain-mae:0.077581\n",
      "[1]\teval-mae:0.059037\ttrain-mae:0.058109\n",
      "[2]\teval-mae:0.05276\ttrain-mae:0.050829\n",
      "[3]\teval-mae:0.051493\ttrain-mae:0.048636\n",
      "[4]\teval-mae:0.048148\ttrain-mae:0.044877\n",
      "[5]\teval-mae:0.047856\ttrain-mae:0.044154\n",
      "[6]\teval-mae:0.046106\ttrain-mae:0.04283\n",
      "[7]\teval-mae:0.046079\ttrain-mae:0.042505\n",
      "[8]\teval-mae:0.044917\ttrain-mae:0.04154\n",
      "[9]\teval-mae:0.044639\ttrain-mae:0.041113\n",
      "[10]\teval-mae:0.043932\ttrain-mae:0.040488\n",
      "[11]\teval-mae:0.043701\ttrain-mae:0.040076\n",
      "[12]\teval-mae:0.043785\ttrain-mae:0.039666\n",
      "[13]\teval-mae:0.04318\ttrain-mae:0.039234\n",
      "[14]\teval-mae:0.043058\ttrain-mae:0.039064\n",
      "[15]\teval-mae:0.043072\ttrain-mae:0.038841\n",
      "[16]\teval-mae:0.043038\ttrain-mae:0.03841\n",
      "[17]\teval-mae:0.042505\ttrain-mae:0.038066\n",
      "[18]\teval-mae:0.04229\ttrain-mae:0.037958\n",
      "[19]\teval-mae:0.041936\ttrain-mae:0.037828\n",
      "[20]\teval-mae:0.041911\ttrain-mae:0.037554\n",
      "[21]\teval-mae:0.04179\ttrain-mae:0.037184\n",
      "[22]\teval-mae:0.041871\ttrain-mae:0.03694\n",
      "[23]\teval-mae:0.042104\ttrain-mae:0.036863\n",
      "[24]\teval-mae:0.042301\ttrain-mae:0.036641\n",
      "[25]\teval-mae:0.04225\ttrain-mae:0.036457\n",
      "[26]\teval-mae:0.042335\ttrain-mae:0.036307\n",
      "[27]\teval-mae:0.042478\ttrain-mae:0.036119\n",
      "[28]\teval-mae:0.042622\ttrain-mae:0.036001\n",
      "[29]\teval-mae:0.042668\ttrain-mae:0.035961\n",
      "[30]\teval-mae:0.042182\ttrain-mae:0.035367\n",
      "[31]\teval-mae:0.041823\ttrain-mae:0.035131\n"
     ]
    },
    {
     "name": "stderr",
     "output_type": "stream",
     "text": [
      "/Users/ditlswin/anaconda3/lib/python3.7/site-packages/xgboost/core.py:613: UserWarning: Use subset (sliced data) of np.ndarray is not recommended because it will generate extra copies and increase memory consumption\n",
      "  warnings.warn(\"Use subset (sliced data) of np.ndarray is not recommended \" +\n"
     ]
    },
    {
     "name": "stdout",
     "output_type": "stream",
     "text": [
      "[32]\teval-mae:0.041815\ttrain-mae:0.034933\n",
      "[33]\teval-mae:0.041736\ttrain-mae:0.034827\n",
      "[34]\teval-mae:0.041695\ttrain-mae:0.034699\n",
      "[35]\teval-mae:0.041665\ttrain-mae:0.03463\n",
      "[36]\teval-mae:0.041838\ttrain-mae:0.034439\n",
      "[37]\teval-mae:0.041834\ttrain-mae:0.034304\n",
      "[38]\teval-mae:0.041854\ttrain-mae:0.034194\n",
      "[39]\teval-mae:0.041804\ttrain-mae:0.033991\n",
      "[40]\teval-mae:0.041817\ttrain-mae:0.033976\n",
      "[41]\teval-mae:0.041904\ttrain-mae:0.033826\n",
      "[42]\teval-mae:0.041878\ttrain-mae:0.033789\n",
      "[43]\teval-mae:0.041733\ttrain-mae:0.03366\n",
      "[44]\teval-mae:0.041777\ttrain-mae:0.033525\n",
      "[45]\teval-mae:0.041591\ttrain-mae:0.033422\n",
      "[46]\teval-mae:0.041434\ttrain-mae:0.033346\n",
      "[47]\teval-mae:0.041547\ttrain-mae:0.033172\n",
      "[48]\teval-mae:0.04163\ttrain-mae:0.033086\n",
      "[49]\teval-mae:0.041633\ttrain-mae:0.032961\n",
      "[50]\teval-mae:0.041627\ttrain-mae:0.032932\n",
      "[51]\teval-mae:0.041346\ttrain-mae:0.032747\n",
      "[52]\teval-mae:0.041341\ttrain-mae:0.03268\n",
      "[53]\teval-mae:0.041376\ttrain-mae:0.032534\n",
      "[54]\teval-mae:0.041362\ttrain-mae:0.032484\n",
      "[55]\teval-mae:0.041383\ttrain-mae:0.032332\n",
      "[56]\teval-mae:0.041283\ttrain-mae:0.032205\n",
      "[57]\teval-mae:0.04118\ttrain-mae:0.03215\n",
      "[58]\teval-mae:0.041092\ttrain-mae:0.032001\n",
      "[59]\teval-mae:0.040963\ttrain-mae:0.031902\n",
      "[60]\teval-mae:0.040883\ttrain-mae:0.031682\n",
      "[61]\teval-mae:0.040723\ttrain-mae:0.031441\n",
      "[62]\teval-mae:0.040893\ttrain-mae:0.031271\n",
      "[63]\teval-mae:0.040895\ttrain-mae:0.031186\n",
      "[64]\teval-mae:0.040993\ttrain-mae:0.031125\n",
      "[65]\teval-mae:0.040954\ttrain-mae:0.031032\n",
      "[66]\teval-mae:0.040976\ttrain-mae:0.030987\n",
      "[67]\teval-mae:0.041085\ttrain-mae:0.03085\n",
      "[68]\teval-mae:0.04105\ttrain-mae:0.030785\n",
      "[69]\teval-mae:0.041324\ttrain-mae:0.030642\n",
      "[70]\teval-mae:0.041469\ttrain-mae:0.03052\n",
      "[71]\teval-mae:0.041519\ttrain-mae:0.030393\n",
      "[72]\teval-mae:0.041575\ttrain-mae:0.030285\n",
      "[73]\teval-mae:0.041651\ttrain-mae:0.03025\n",
      "[74]\teval-mae:0.041546\ttrain-mae:0.030115\n",
      "[75]\teval-mae:0.04159\ttrain-mae:0.030067\n",
      "[76]\teval-mae:0.04154\ttrain-mae:0.029982\n",
      "[77]\teval-mae:0.041652\ttrain-mae:0.029895\n",
      "[78]\teval-mae:0.041714\ttrain-mae:0.029846\n",
      "[79]\teval-mae:0.0418\ttrain-mae:0.029729\n",
      "[80]\teval-mae:0.041688\ttrain-mae:0.02963\n",
      "[81]\teval-mae:0.041911\ttrain-mae:0.029559\n",
      "[82]\teval-mae:0.042274\ttrain-mae:0.029492\n",
      "[83]\teval-mae:0.042359\ttrain-mae:0.029448\n",
      "[84]\teval-mae:0.042356\ttrain-mae:0.029384\n",
      "[85]\teval-mae:0.042475\ttrain-mae:0.029281\n",
      "[86]\teval-mae:0.042293\ttrain-mae:0.029166\n",
      "[87]\teval-mae:0.042256\ttrain-mae:0.029094\n",
      "[88]\teval-mae:0.04217\ttrain-mae:0.029033\n",
      "[89]\teval-mae:0.042225\ttrain-mae:0.028975\n",
      "[90]\teval-mae:0.042187\ttrain-mae:0.028851\n",
      "[91]\teval-mae:0.041958\ttrain-mae:0.028765\n",
      "[92]\teval-mae:0.042022\ttrain-mae:0.028731\n",
      "[93]\teval-mae:0.042081\ttrain-mae:0.028672\n",
      "[94]\teval-mae:0.042491\ttrain-mae:0.02858\n",
      "[95]\teval-mae:0.042491\ttrain-mae:0.028566\n",
      "[96]\teval-mae:0.042576\ttrain-mae:0.028441\n",
      "[97]\teval-mae:0.042739\ttrain-mae:0.028383\n",
      "[98]\teval-mae:0.042663\ttrain-mae:0.028304\n",
      "[99]\teval-mae:0.0425\ttrain-mae:0.028177\n"
     ]
    }
   ],
   "source": [
    "file = \"970_1_data.csv\"\n",
    "lags = 12\n",
    "X_train, y_train, X_test, y_test, scaler = process_data(file, lags)\n",
    "\n",
    "param = {'max_depth': 2, 'eta': 1, 'objective': 'reg:logistic'}\n",
    "param['nthread'] = 4\n",
    "param['eval_metric'] = 'mae'\n",
    "\n",
    "dtrain = xgb.DMatrix(X_train, label=y_train)\n",
    "dtest = xgb.DMatrix(X_test, label=y_test)\n",
    "\n",
    "evallist = [(dtest, 'eval'), (dtrain, 'train')]\n",
    "\n",
    "num_round = 100\n",
    "model_xgb = xgb.train(param, dtrain, num_round,evallist)\n",
    "\n",
    "model_xgb.save_model('xgb.model')\n",
    "\n",
    "dtest = xgb.DMatrix(X_test)\n",
    "ypred = model_xgb.predict(dtest)"
   ]
  },
  {
   "cell_type": "code",
   "execution_count": 24,
   "metadata": {},
   "outputs": [],
   "source": [
    "pred = scaler.inverse_transform(ypred.reshape(-1, 1)).reshape(1, -1)[0]"
   ]
  },
  {
   "cell_type": "code",
   "execution_count": 25,
   "metadata": {},
   "outputs": [],
   "source": [
    "y_test1 = scaler.inverse_transform(y_test.reshape(-1, 1)).reshape(1, -1)[0]"
   ]
  },
  {
   "cell_type": "code",
   "execution_count": 26,
   "metadata": {},
   "outputs": [
    {
     "name": "stderr",
     "output_type": "stream",
     "text": [
      "/Users/ditlswin/anaconda3/lib/python3.7/site-packages/pandas/plotting/_converter.py:129: FutureWarning: Using an implicitly registered datetime converter for a matplotlib plotting method. The converter was registered by pandas on import. Future versions of pandas will require you to explicitly register matplotlib converters.\n",
      "\n",
      "To register the converters:\n",
      "\t>>> from pandas.plotting import register_matplotlib_converters\n",
      "\t>>> register_matplotlib_converters()\n",
      "  warnings.warn(msg, FutureWarning)\n"
     ]
    },
    {
     "data": {
      "image/png": "[encoded data removed]",
      "text/plain": [
       "<Figure size 432x288 with 1 Axes>"
      ]
     },
     "metadata": {},
     "output_type": "display_data"
    }
   ],
   "source": [
    "import matplotlib as mpl\n",
    "d = '2006-10-25 19:00'\n",
    "x = pd.date_range(d, periods=384, freq='15min')\n",
    "\n",
    "fig = plt.figure()\n",
    "ax = fig.add_subplot(111)\n",
    "\n",
    "ax.plot(x, y_test1[:384], label='True Data')\n",
    "\n",
    "ax.plot(x, pred[:384], label=\"xgboost\")\n",
    "ax.plot(x, predicted[:384], label=\"knn\")\n",
    "\n",
    "plt.legend()\n",
    "plt.grid(True)\n",
    "plt.xlabel('Time of Day')\n",
    "plt.ylabel('Flow')\n",
    "\n",
    "date_format = mpl.dates.DateFormatter(\"%H:%M\")\n",
    "ax.xaxis.set_major_formatter(date_format)\n",
    "fig.autofmt_xdate()\n",
    "\n",
    "plt.show()"
   ]
  },
  {
   "cell_type": "code",
   "execution_count": null,
   "metadata": {},
   "outputs": [],
   "source": []
  }
 ],
 "metadata": {
  "kernelspec": {
   "display_name": "Python 3",
   "language": "python",
   "name": "python3"
  },
  "language_info": {
   "codemirror_mode": {
    "name": "ipython",
    "version": 3
   },
   "file_extension": ".py",
   "mimetype": "text/x-python",
   "name": "python",
   "nbconvert_exporter": "python",
   "pygments_lexer": "ipython3",
   "version": "3.7.3"
  }
 },
 "nbformat": 4,
 "nbformat_minor": 2
}
